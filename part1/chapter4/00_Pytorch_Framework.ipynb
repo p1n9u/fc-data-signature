{
  "nbformat": 4,
  "nbformat_minor": 0,
  "metadata": {
    "colab": {
      "provenance": [],
      "collapsed_sections": [
        "cdD17_cLF_Xc",
        "GK-WYecsMFa8",
        "k0ob6B3yPqjq",
        "L9dmX2vm-ONk"
      ]
    },
    "kernelspec": {
      "name": "python3",
      "display_name": "Python 3"
    },
    "language_info": {
      "name": "python"
    },
    "accelerator": "GPU",
    "gpuClass": "standard"
  },
  "cells": [
    {
      "cell_type": "markdown",
      "source": [
        "## 0. 파이토치 : 개요"
      ],
      "metadata": {
        "id": "cdD17_cLF_Xc"
      }
    },
    {
      "cell_type": "code",
      "execution_count": 1,
      "metadata": {
        "id": "v9lgZwpMDhW6"
      },
      "outputs": [],
      "source": [
        "import torch"
      ]
    },
    {
      "cell_type": "markdown",
      "source": [
        "### GPU 사용 여부 체크하기"
      ],
      "metadata": {
        "id": "FeAmouRtLN-V"
      }
    },
    {
      "cell_type": "code",
      "source": [
        "data = [\n",
        "  [1, 2],\n",
        "  [3, 4]\n",
        "]\n",
        "\n",
        "x = torch.tensor(data)\n",
        "print(x.is_cuda)\n",
        "\n",
        "x = x.cuda()\n",
        "print(x.is_cuda)\n",
        "\n",
        "x = x.cpu()\n",
        "print(x.is_cuda)"
      ],
      "metadata": {
        "colab": {
          "base_uri": "https://localhost:8080/"
        },
        "id": "MIu5Ft-wD1JK",
        "outputId": "2d5a5856-fb8d-49bf-f00f-159b90b26e68"
      },
      "execution_count": 2,
      "outputs": [
        {
          "output_type": "stream",
          "name": "stdout",
          "text": [
            "False\n",
            "True\n",
            "False\n"
          ]
        }
      ]
    },
    {
      "cell_type": "code",
      "source": [
        "a = torch.tensor([\n",
        "    [1, 1],\n",
        "    [2, 2]\n",
        "]).cuda()\n",
        "\n",
        "\n",
        "b = torch.tensor([\n",
        "    [5, 6],\n",
        "    [7, 8]\n",
        "])\n",
        "\n",
        "'''\n",
        "# error\n",
        "print(torch.matmul(a, b))\n",
        "'''\n",
        "\n",
        "print(torch.matmul(a.cpu(), b))"
      ],
      "metadata": {
        "colab": {
          "base_uri": "https://localhost:8080/"
        },
        "id": "Ai-15T3-FLc4",
        "outputId": "2a35861d-5f3f-4e63-cc2a-7522d2b0bbc8"
      },
      "execution_count": 3,
      "outputs": [
        {
          "output_type": "stream",
          "name": "stdout",
          "text": [
            "tensor([[12, 14],\n",
            "        [24, 28]])\n"
          ]
        }
      ]
    },
    {
      "cell_type": "markdown",
      "source": [
        "## 1. 파이토치 : 텐서 소개 및 생성 방법"
      ],
      "metadata": {
        "id": "GK-WYecsMFa8"
      }
    },
    {
      "cell_type": "markdown",
      "source": [
        "### 텐서의 속성"
      ],
      "metadata": {
        "id": "5XZuS4vOMPOo"
      }
    },
    {
      "cell_type": "code",
      "source": [
        "tensor = torch.rand(3, 4)\n",
        "\n",
        "print(tensor)\n",
        "print(f\"Shape: {tensor.shape}\")\n",
        "print(f\"Data type: {tensor.dtype}\")\n",
        "print(f\"Device: {tensor.device}\")"
      ],
      "metadata": {
        "colab": {
          "base_uri": "https://localhost:8080/"
        },
        "id": "iisHw6DNMkJg",
        "outputId": "5d37f602-527e-40c7-d618-0cf7e87e67e0"
      },
      "execution_count": 4,
      "outputs": [
        {
          "output_type": "stream",
          "name": "stdout",
          "text": [
            "tensor([[0.6523, 0.2426, 0.9140, 0.2377],\n",
            "        [0.4259, 0.6629, 0.1605, 0.0902],\n",
            "        [0.1564, 0.5172, 0.8893, 0.8950]])\n",
            "Shape: torch.Size([3, 4])\n",
            "Data type: torch.float32\n",
            "Device: cpu\n"
          ]
        }
      ]
    },
    {
      "cell_type": "markdown",
      "source": [
        "### 텐서 초기화"
      ],
      "metadata": {
        "id": "GeTFnqwYPR2U"
      }
    },
    {
      "cell_type": "code",
      "source": [
        "data = [\n",
        "  [1, 2],\n",
        "  [3, 4]\n",
        "]\n",
        "x = torch.tensor(data)\n",
        "\n",
        "print(x)"
      ],
      "metadata": {
        "colab": {
          "base_uri": "https://localhost:8080/"
        },
        "id": "c8WSVJUuPXHJ",
        "outputId": "4bce71f1-7167-4d8e-91fb-31add52b7447"
      },
      "execution_count": 5,
      "outputs": [
        {
          "output_type": "stream",
          "name": "stdout",
          "text": [
            "tensor([[1, 2],\n",
            "        [3, 4]])\n"
          ]
        }
      ]
    },
    {
      "cell_type": "code",
      "source": [
        "a = torch.tensor([5])\n",
        "b = torch.tensor([7])\n",
        "\n",
        "c = (a + b).numpy()\n",
        "print(c)\n",
        "print(type(c))\n",
        "\n",
        "result = c * 10\n",
        "tensor = torch.from_numpy(result)\n",
        "print(tensor)\n",
        "print(type(tensor))"
      ],
      "metadata": {
        "colab": {
          "base_uri": "https://localhost:8080/"
        },
        "id": "KHg_5v8dPdCB",
        "outputId": "75dfb61d-2e38-466f-aedc-275f7cd79eb3"
      },
      "execution_count": 6,
      "outputs": [
        {
          "output_type": "stream",
          "name": "stdout",
          "text": [
            "[12]\n",
            "<class 'numpy.ndarray'>\n",
            "tensor([120])\n",
            "<class 'torch.Tensor'>\n"
          ]
        }
      ]
    },
    {
      "cell_type": "markdown",
      "source": [
        "### 다른 텐서로부터 텐서 초기화"
      ],
      "metadata": {
        "id": "xBQXEZhzPhzX"
      }
    },
    {
      "cell_type": "code",
      "source": [
        "x = torch.tensor([\n",
        "    [5, 7],\n",
        "    [1, 2]\n",
        "])\n",
        "\n",
        "x_ones = torch.ones_like(x)\n",
        "print(x_ones)\n",
        "\n",
        "x_rand = torch.rand_like(x, dtype=torch.float32)\n",
        "print(x_rand)"
      ],
      "metadata": {
        "colab": {
          "base_uri": "https://localhost:8080/"
        },
        "id": "NlgzXaK6PmVb",
        "outputId": "494c4973-d93f-46d1-f06a-fc8c3930113d"
      },
      "execution_count": 8,
      "outputs": [
        {
          "output_type": "stream",
          "name": "stdout",
          "text": [
            "tensor([[1, 1],\n",
            "        [1, 1]])\n",
            "tensor([[0.6642, 0.6477],\n",
            "        [0.9693, 0.5003]])\n"
          ]
        }
      ]
    },
    {
      "cell_type": "markdown",
      "source": [
        "## 2. 텐서의 형변환 및 차원 조작"
      ],
      "metadata": {
        "id": "k0ob6B3yPqjq"
      }
    },
    {
      "cell_type": "markdown",
      "source": [
        "### 텐서의 특정 차원 접근하기"
      ],
      "metadata": {
        "id": "qxGEiiI79fxR"
      }
    },
    {
      "cell_type": "code",
      "source": [
        "tensor = torch.tensor([\n",
        "    [1, 2, 3, 4],\n",
        "    [5, 6, 7, 8],\n",
        "    [9, 10, 11, 12]\n",
        "])\n",
        "\n",
        "print(tensor[0])\n",
        "print(tensor[:, 0])\n",
        "print(tensor[..., -1])\n",
        "print(tensor[:,-1])"
      ],
      "metadata": {
        "colab": {
          "base_uri": "https://localhost:8080/"
        },
        "id": "e4ImcwYk9jxQ",
        "outputId": "1a4cae00-2834-4a8e-b960-000a49b928f7"
      },
      "execution_count": 15,
      "outputs": [
        {
          "output_type": "stream",
          "name": "stdout",
          "text": [
            "tensor([1, 2, 3, 4])\n",
            "tensor([1, 5, 9])\n",
            "tensor([ 4,  8, 12])\n",
            "tensor([ 4,  8, 12])\n"
          ]
        }
      ]
    },
    {
      "cell_type": "markdown",
      "source": [
        "### 텐서 이어붙이기(Concatenate)"
      ],
      "metadata": {
        "id": "Co0MY3CD9rlq"
      }
    },
    {
      "cell_type": "code",
      "source": [
        "tensor = torch.tensor([\n",
        "    [1, 2, 3, 4],\n",
        "    [5, 6, 7, 8],\n",
        "    [9, 10, 11, 12]\n",
        "])\n",
        "\n",
        "result = torch.cat([tensor, tensor, tensor], dim=0)\n",
        "print(result)\n",
        "\n",
        "result = torch.cat([tensor, tensor, tensor], dim=1)\n",
        "print(result)"
      ],
      "metadata": {
        "colab": {
          "base_uri": "https://localhost:8080/"
        },
        "id": "OlxCzlMF9ur9",
        "outputId": "fb85a766-95c1-4755-d08d-832afd160ca0"
      },
      "execution_count": 11,
      "outputs": [
        {
          "output_type": "stream",
          "name": "stdout",
          "text": [
            "tensor([[ 1,  2,  3,  4],\n",
            "        [ 5,  6,  7,  8],\n",
            "        [ 9, 10, 11, 12],\n",
            "        [ 1,  2,  3,  4],\n",
            "        [ 5,  6,  7,  8],\n",
            "        [ 9, 10, 11, 12],\n",
            "        [ 1,  2,  3,  4],\n",
            "        [ 5,  6,  7,  8],\n",
            "        [ 9, 10, 11, 12]])\n",
            "tensor([[ 1,  2,  3,  4,  1,  2,  3,  4,  1,  2,  3,  4],\n",
            "        [ 5,  6,  7,  8,  5,  6,  7,  8,  5,  6,  7,  8],\n",
            "        [ 9, 10, 11, 12,  9, 10, 11, 12,  9, 10, 11, 12]])\n"
          ]
        }
      ]
    },
    {
      "cell_type": "markdown",
      "source": [
        "### 텐서 형변환(Type Casting)"
      ],
      "metadata": {
        "id": "NSDSCha291OH"
      }
    },
    {
      "cell_type": "code",
      "source": [
        "a = torch.tensor([2], dtype=torch.int)\n",
        "b = torch.tensor([5.0])\n",
        "\n",
        "print(a.dtype)\n",
        "print(b.dtype)\n",
        "\n",
        "\n",
        "print(a + b)\n",
        "print(a + b.type(torch.int32))"
      ],
      "metadata": {
        "colab": {
          "base_uri": "https://localhost:8080/"
        },
        "id": "cEVzWPrn90PE",
        "outputId": "20bc472d-761a-4416-9b35-d5de713ac231"
      },
      "execution_count": 12,
      "outputs": [
        {
          "output_type": "stream",
          "name": "stdout",
          "text": [
            "torch.int32\n",
            "torch.float32\n",
            "tensor([7.])\n",
            "tensor([7], dtype=torch.int32)\n"
          ]
        }
      ]
    },
    {
      "cell_type": "markdown",
      "source": [
        "### 텐서의 모양 변경"
      ],
      "metadata": {
        "id": "en3fNdUA9_En"
      }
    },
    {
      "cell_type": "code",
      "source": [
        "a = torch.tensor([1, 2, 3, 4, 5, 6, 7, 8])\n",
        "b = a.view(4, 2)\n",
        "print(b)\n",
        "\n",
        "a[0] = 7\n",
        "print(b)\n",
        "\n",
        "c = a.clone().view(4, 2)\n",
        "a[0] = 9\n",
        "print(c)"
      ],
      "metadata": {
        "colab": {
          "base_uri": "https://localhost:8080/"
        },
        "id": "9js3nNc4-Bk6",
        "outputId": "8761a592-6a38-43c8-fbf5-e856d959bac3"
      },
      "execution_count": 13,
      "outputs": [
        {
          "output_type": "stream",
          "name": "stdout",
          "text": [
            "tensor([[1, 2],\n",
            "        [3, 4],\n",
            "        [5, 6],\n",
            "        [7, 8]])\n",
            "tensor([[7, 2],\n",
            "        [3, 4],\n",
            "        [5, 6],\n",
            "        [7, 8]])\n",
            "tensor([[7, 2],\n",
            "        [3, 4],\n",
            "        [5, 6],\n",
            "        [7, 8]])\n"
          ]
        }
      ]
    },
    {
      "cell_type": "markdown",
      "source": [
        "### 텐서의 차원 교환"
      ],
      "metadata": {
        "id": "P6uCEPbH-F4_"
      }
    },
    {
      "cell_type": "code",
      "source": [
        "a = torch.rand((4, 3, 2))\n",
        "print(a.shape)\n",
        "print(a)\n",
        "\n",
        "b = a.permute(2, 1, 0)\n",
        "print(b.shape)\n",
        "print(b)"
      ],
      "metadata": {
        "colab": {
          "base_uri": "https://localhost:8080/"
        },
        "id": "S8gTxkg--H5G",
        "outputId": "ce2185d8-c0b7-4973-c1e4-c0fb8a9df184"
      },
      "execution_count": 19,
      "outputs": [
        {
          "output_type": "stream",
          "name": "stdout",
          "text": [
            "torch.Size([4, 3, 2])\n",
            "tensor([[[0.0801, 0.2613],\n",
            "         [0.1057, 0.2195],\n",
            "         [0.9044, 0.4416]],\n",
            "\n",
            "        [[0.0753, 0.2796],\n",
            "         [0.8647, 0.1932],\n",
            "         [0.6740, 0.5349]],\n",
            "\n",
            "        [[0.5492, 0.7885],\n",
            "         [0.9524, 0.3395],\n",
            "         [0.2912, 0.7256]],\n",
            "\n",
            "        [[0.3869, 0.8098],\n",
            "         [0.4191, 0.4205],\n",
            "         [0.8702, 0.1121]]])\n",
            "torch.Size([2, 3, 4])\n",
            "tensor([[[0.0801, 0.0753, 0.5492, 0.3869],\n",
            "         [0.1057, 0.8647, 0.9524, 0.4191],\n",
            "         [0.9044, 0.6740, 0.2912, 0.8702]],\n",
            "\n",
            "        [[0.2613, 0.2796, 0.7885, 0.8098],\n",
            "         [0.2195, 0.1932, 0.3395, 0.4205],\n",
            "         [0.4416, 0.5349, 0.7256, 0.1121]]])\n"
          ]
        }
      ]
    },
    {
      "cell_type": "markdown",
      "source": [
        "## 3. 파이토치 : 텐서의 연산과 함수"
      ],
      "metadata": {
        "id": "L9dmX2vm-ONk"
      }
    },
    {
      "cell_type": "markdown",
      "source": [
        "### 텐서의 연산"
      ],
      "metadata": {
        "id": "WEDRozJnFBft"
      }
    },
    {
      "cell_type": "code",
      "source": [
        "a = torch.tensor([\n",
        "    [1, 2],\n",
        "    [3, 4]\n",
        "])\n",
        "b = torch.tensor([\n",
        "    [5, 6],\n",
        "    [7, 8]\n",
        "])\n",
        "\n",
        "print(a + b)\n",
        "print(a - b)\n",
        "print(a * b)\n",
        "print(a / b)"
      ],
      "metadata": {
        "colab": {
          "base_uri": "https://localhost:8080/"
        },
        "id": "oVTSqZy3FDcF",
        "outputId": "fd582109-f92d-4fef-b148-a5bd2e07d831"
      },
      "execution_count": 32,
      "outputs": [
        {
          "output_type": "stream",
          "name": "stdout",
          "text": [
            "tensor([[ 6,  8],\n",
            "        [10, 12]])\n",
            "tensor([[-4, -4],\n",
            "        [-4, -4]])\n",
            "tensor([[ 5, 12],\n",
            "        [21, 32]])\n",
            "tensor([[0.2000, 0.3333],\n",
            "        [0.4286, 0.5000]])\n"
          ]
        }
      ]
    },
    {
      "cell_type": "code",
      "source": [
        "a = torch.tensor([\n",
        "    [1, 2],\n",
        "    [3, 4]\n",
        "])\n",
        "b = torch.tensor([\n",
        "    [5, 6],\n",
        "    [7, 8]\n",
        "])\n",
        "\n",
        "print(a.matmul(b))\n",
        "print(torch.matmul(a, b))"
      ],
      "metadata": {
        "colab": {
          "base_uri": "https://localhost:8080/"
        },
        "id": "XFIbmD2sFHxK",
        "outputId": "65984b86-e971-4dff-9cc6-b8c8fc9826f7"
      },
      "execution_count": 21,
      "outputs": [
        {
          "output_type": "stream",
          "name": "stdout",
          "text": [
            "tensor([[19, 22],\n",
            "        [43, 50]])\n",
            "tensor([[19, 22],\n",
            "        [43, 50]])\n"
          ]
        }
      ]
    },
    {
      "cell_type": "markdown",
      "source": [
        "### 텐서의 평균 함수"
      ],
      "metadata": {
        "id": "Kt4z4O6xFGlQ"
      }
    },
    {
      "cell_type": "code",
      "source": [
        "a = torch.Tensor([\n",
        "    [1, 2, 3, 4],\n",
        "    [5, 6, 7, 8]\n",
        "])\n",
        "\n",
        "print(a)\n",
        "print(a.mean())\n",
        "print(a.mean(dim=0))\n",
        "print(a.mean(dim=1))"
      ],
      "metadata": {
        "colab": {
          "base_uri": "https://localhost:8080/"
        },
        "id": "WRbPnICJFMxs",
        "outputId": "c5ce6751-7147-4735-fff1-1d5fd761e769"
      },
      "execution_count": 22,
      "outputs": [
        {
          "output_type": "stream",
          "name": "stdout",
          "text": [
            "tensor([[1., 2., 3., 4.],\n",
            "        [5., 6., 7., 8.]])\n",
            "tensor(4.5000)\n",
            "tensor([3., 4., 5., 6.])\n",
            "tensor([2.5000, 6.5000])\n"
          ]
        }
      ]
    },
    {
      "cell_type": "markdown",
      "source": [
        "### 텐서의 합계 함수"
      ],
      "metadata": {
        "id": "VBtyVA43FX4m"
      }
    },
    {
      "cell_type": "code",
      "source": [
        "a = torch.Tensor([\n",
        "    [1, 2, 3, 4],\n",
        "    [5, 6, 7, 8]\n",
        "])\n",
        "\n",
        "print(a)\n",
        "print(a.sum())\n",
        "print(a.sum(dim=0))\n",
        "print(a.sum(dim=1))"
      ],
      "metadata": {
        "colab": {
          "base_uri": "https://localhost:8080/"
        },
        "id": "0-uU3kE1FZPR",
        "outputId": "aaaf0f65-88e6-4e31-ae58-1a9ec4dbe9ff"
      },
      "execution_count": 23,
      "outputs": [
        {
          "output_type": "stream",
          "name": "stdout",
          "text": [
            "tensor([[1., 2., 3., 4.],\n",
            "        [5., 6., 7., 8.]])\n",
            "tensor(36.)\n",
            "tensor([ 6.,  8., 10., 12.])\n",
            "tensor([10., 26.])\n"
          ]
        }
      ]
    },
    {
      "cell_type": "markdown",
      "source": [
        "### 텐서의 최대 함수"
      ],
      "metadata": {
        "id": "Oeg3ToXTFeaa"
      }
    },
    {
      "cell_type": "code",
      "source": [
        "a = torch.Tensor([\n",
        "    [1, 6, 3, 8],\n",
        "    [5, 2, 7, 4]\n",
        "])\n",
        "\n",
        "print(a)\n",
        "print(a.max())\n",
        "print(a.max(dim=0))\n",
        "print(a.max(dim=1))\n",
        "print(a.argmax())\n",
        "print(a.argmax(dim=0))\n",
        "print(a.argmax(dim=1))"
      ],
      "metadata": {
        "colab": {
          "base_uri": "https://localhost:8080/"
        },
        "id": "AZxcn5GlFgNg",
        "outputId": "3625dad8-cc96-415a-9f4e-3bbb7d267ca2"
      },
      "execution_count": 33,
      "outputs": [
        {
          "output_type": "stream",
          "name": "stdout",
          "text": [
            "tensor([[1., 6., 3., 8.],\n",
            "        [5., 2., 7., 4.]])\n",
            "tensor(8.)\n",
            "torch.return_types.max(\n",
            "values=tensor([5., 6., 7., 8.]),\n",
            "indices=tensor([1, 0, 1, 0]))\n",
            "torch.return_types.max(\n",
            "values=tensor([8., 7.]),\n",
            "indices=tensor([3, 2]))\n",
            "tensor(3)\n",
            "tensor([1, 0, 1, 0])\n",
            "tensor([3, 2])\n"
          ]
        }
      ]
    },
    {
      "cell_type": "markdown",
      "source": [
        "### 텐서의 차원 줄이기 혹은 늘리기"
      ],
      "metadata": {
        "id": "c_uVYxKHHP91"
      }
    },
    {
      "cell_type": "code",
      "source": [
        "a = torch.Tensor([\n",
        "    [1, 2, 3, 4],\n",
        "    [5, 6, 7, 8]\n",
        "])\n",
        "\n",
        "print(a.shape)\n",
        "\n",
        "a = a.unsqueeze(0)\n",
        "print(a)\n",
        "print(a.shape)\n",
        "\n",
        "a = a.unsqueeze(2)\n",
        "print(a)\n",
        "print(a.shape)\n",
        "\n",
        "a = a.squeeze()\n",
        "print(a)\n",
        "print(a.shape)"
      ],
      "metadata": {
        "colab": {
          "base_uri": "https://localhost:8080/"
        },
        "id": "utZrfz05HRmO",
        "outputId": "58858d25-0745-4a0f-e869-88eff44ebb7a"
      },
      "execution_count": 34,
      "outputs": [
        {
          "output_type": "stream",
          "name": "stdout",
          "text": [
            "torch.Size([2, 4])\n",
            "tensor([[[1., 2., 3., 4.],\n",
            "         [5., 6., 7., 8.]]])\n",
            "torch.Size([1, 2, 4])\n",
            "tensor([[[[1., 2., 3., 4.]],\n",
            "\n",
            "         [[5., 6., 7., 8.]]]])\n",
            "torch.Size([1, 2, 1, 4])\n",
            "tensor([[1., 2., 3., 4.],\n",
            "        [5., 6., 7., 8.]])\n",
            "torch.Size([2, 4])\n"
          ]
        }
      ]
    },
    {
      "cell_type": "markdown",
      "source": [
        "## 4. 파이토치 : 자동 미분과 기울기"
      ],
      "metadata": {
        "id": "uQ81yelFQQ3p"
      }
    },
    {
      "cell_type": "markdown",
      "source": [
        "### 연산에 대한 자동 미분"
      ],
      "metadata": {
        "id": "XS2GnjIFQVMg"
      }
    },
    {
      "cell_type": "code",
      "source": [
        "import torch\n",
        "\n",
        "x = torch.tensor([3.0, 4.0], requires_grad=True)\n",
        "y = torch.tensor([1.0, 2.0], requires_grad=True)\n",
        "\n",
        "z = x + y\n",
        "\n",
        "print(z)\n",
        "print(z.grad_fn)\n",
        "\n",
        "out = z.mean()\n",
        "\n",
        "print(out)\n",
        "print(out.grad_fn)\n",
        "\n",
        "out.backward()\n",
        "print(x.grad)\n",
        "print(y.grad)\n",
        "print(z.grad)"
      ],
      "metadata": {
        "colab": {
          "base_uri": "https://localhost:8080/"
        },
        "id": "8gY4E3zmQTxR",
        "outputId": "89af48e8-e7f2-41c6-e3dc-3fc36ce4fdc7"
      },
      "execution_count": 38,
      "outputs": [
        {
          "output_type": "stream",
          "name": "stdout",
          "text": [
            "tensor([4., 6.], grad_fn=<AddBackward0>)\n",
            "<AddBackward0 object at 0x7f4e9d1001f0>\n",
            "tensor(5., grad_fn=<MeanBackward0>)\n",
            "<MeanBackward0 object at 0x7f4ec64b1a30>\n",
            "tensor([0.5000, 0.5000])\n",
            "tensor([0.5000, 0.5000])\n",
            "None\n"
          ]
        },
        {
          "output_type": "stream",
          "name": "stderr",
          "text": [
            "<ipython-input-38-793454facd6b>:19: UserWarning: The .grad attribute of a Tensor that is not a leaf Tensor is being accessed. Its .grad attribute won't be populated during autograd.backward(). If you indeed want the .grad field to be populated for a non-leaf Tensor, use .retain_grad() on the non-leaf Tensor. If you access the non-leaf Tensor by mistake, make sure you access the leaf Tensor instead. See github.com/pytorch/pytorch/pull/30531 for more informations. (Triggered internally at aten/src/ATen/core/TensorBody.h:486.)\n",
            "  print(z.grad)\n"
          ]
        }
      ]
    },
    {
      "cell_type": "code",
      "source": [
        "temp = torch.tensor([3.0, 4.0], requires_grad=True)\n",
        "print(temp.requires_grad)\n",
        "print((temp ** 2).requires_grad)\n",
        "\n",
        "with torch.no_grad():\n",
        "    temp = torch.tensor([3.0, 4.0], requires_grad=True)\n",
        "    print(temp.requires_grad)\n",
        "    print((temp ** 2).requires_grad)"
      ],
      "metadata": {
        "colab": {
          "base_uri": "https://localhost:8080/"
        },
        "id": "9Z_BQ0D3QoED",
        "outputId": "5de336fb-a274-4a67-e2e9-28ad235db4aa"
      },
      "execution_count": 36,
      "outputs": [
        {
          "output_type": "stream",
          "name": "stdout",
          "text": [
            "True\n",
            "True\n",
            "True\n",
            "False\n"
          ]
        }
      ]
    }
  ]
}